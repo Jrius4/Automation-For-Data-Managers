{
 "cells": [
  {
   "cell_type": "code",
   "execution_count": 1,
   "metadata": {},
   "outputs": [
    {
     "name": "stdout",
     "output_type": "stream",
     "text": [
      "Hello world\n"
     ]
    }
   ],
   "source": [
    "print(\"Hello world\")"
   ]
  },
  {
   "cell_type": "markdown",
   "metadata": {},
   "source": [
    "## Variables\n",
    "\n",
    "    - Every variable is connected to a value\n"
   ]
  },
  {
   "cell_type": "code",
   "execution_count": 2,
   "metadata": {},
   "outputs": [
    {
     "name": "stdout",
     "output_type": "stream",
     "text": [
      "Hello python world\n"
     ]
    }
   ],
   "source": [
    "message = \"Hello python world\"\n",
    "print(message)"
   ]
  },
  {
   "cell_type": "markdown",
   "metadata": {},
   "source": [
    "### Strings\n",
    "\n",
    "    - \"This is a string\"\n",
    "    - 'This is also a string'\n"
   ]
  },
  {
   "cell_type": "markdown",
   "metadata": {},
   "source": [
    "#### Changing Case in String with Methods\n",
    "\n",
    "     title, upper, lower\n"
   ]
  },
  {
   "cell_type": "code",
   "execution_count": 5,
   "metadata": {},
   "outputs": [
    {
     "name": "stdout",
     "output_type": "stream",
     "text": [
      "Opio Martin\n",
      "OPIO MARTIN\n",
      "opio martin\n"
     ]
    }
   ],
   "source": [
    "# Changing Case in a String with Methods\n",
    "name = \"opio martin\"\n",
    "print(name.title())\n",
    "\n",
    "# other useful methods\n",
    "print(name.upper())\n",
    "print(name.lower())\n"
   ]
  },
  {
   "cell_type": "markdown",
   "metadata": {},
   "source": [
    "#### Using Variables in Strings\n"
   ]
  },
  {
   "cell_type": "code",
   "execution_count": 8,
   "metadata": {},
   "outputs": [
    {
     "name": "stdout",
     "output_type": "stream",
     "text": [
      "martin opio\n",
      "Martin Opio\n",
      "Hello, martin opio\n"
     ]
    }
   ],
   "source": [
    "first_name = \"martin\"\n",
    "last_name = \"opio\"\n",
    "full_name = f\"{first_name} {last_name}\" # Combine values into one\n",
    "\n",
    "# print/display full name\n",
    "print(full_name)\n",
    "print(full_name.title())\n",
    "\n",
    "# Greeting\n",
    "print(f\"Hello, {full_name}\")"
   ]
  },
  {
   "cell_type": "markdown",
   "metadata": {},
   "source": [
    "##### Alternative way of combining strings\n"
   ]
  },
  {
   "cell_type": "code",
   "execution_count": 9,
   "metadata": {},
   "outputs": [
    {
     "name": "stdout",
     "output_type": "stream",
     "text": [
      "martin opio\n"
     ]
    }
   ],
   "source": [
    "full_names = \"{} {}\".format(first_name, last_name) # the braces will be filled by the values listed in the parenthesis\n",
    "\n",
    "print(full_names)\n"
   ]
  },
  {
   "cell_type": "markdown",
   "metadata": {},
   "source": [
    "##### Adding whitespace to the Strings with Tabs or newlines\n"
   ]
  },
  {
   "cell_type": "code",
   "execution_count": 12,
   "metadata": {},
   "outputs": [
    {
     "name": "stdout",
     "output_type": "stream",
     "text": [
      "Data Manager Tasks:\n",
      "\t1. Analysis Data\n",
      "\t2. Generate Reports\n",
      "\t3. Creating Tools for Repetitive Tasks\n",
      "...etc\n"
     ]
    }
   ],
   "source": [
    "print(\"Data Manager Tasks:\")\n",
    "print(\"\\t1. Analysis Data\") # using tabs\n",
    "print(\"\\t2. Generate Reports\") # using tabs\n",
    "print(\"\\t3. Creating Tools for Repetitive Tasks\\n...etc\") # using tab(\\t) and new line(\\n)"
   ]
  },
  {
   "cell_type": "markdown",
   "metadata": {},
   "source": [
    "#### Stripping Whitespace\n",
    "\n",
    "    'python ' to 'python'\n"
   ]
  },
  {
   "cell_type": "code",
   "execution_count": 13,
   "metadata": {},
   "outputs": [
    {
     "name": "stdout",
     "output_type": "stream",
     "text": [
      "python \n",
      "python\n",
      " python\n",
      "python\n",
      " python \n",
      "python\n"
     ]
    }
   ],
   "source": [
    "favorite_language1 = \"python \"\n",
    "favorite_language2 = \" python\"\n",
    "favorite_language3 = \" python \"\n",
    "print(favorite_language1) # with whitespace\n",
    "print(favorite_language1.rstrip()) # remove whitespace from the right side\n",
    "print(favorite_language2) # with whitespace\n",
    "print(favorite_language2.lstrip()) # remove whitespace from the left side\n",
    "print(favorite_language3) # with whitespace\n",
    "print(favorite_language3.strip()) # remove whitespace from the both sides"
   ]
  },
  {
   "cell_type": "markdown",
   "metadata": {},
   "source": [
    "### Numbers\n"
   ]
  },
  {
   "cell_type": "markdown",
   "metadata": {},
   "source": [
    "#### Integers\n",
    "\n",
    "    add (+), subtract (-), multiply (*), and divide (/)\n"
   ]
  },
  {
   "cell_type": "code",
   "execution_count": 14,
   "metadata": {},
   "outputs": [
    {
     "name": "stdout",
     "output_type": "stream",
     "text": [
      "5\n"
     ]
    }
   ],
   "source": [
    "print(2+3) # add (+)"
   ]
  },
  {
   "cell_type": "code",
   "execution_count": null,
   "metadata": {},
   "outputs": [
    {
     "name": "stdout",
     "output_type": "stream",
     "text": [
      "1\n"
     ]
    }
   ],
   "source": [
    "print(3-2)"
   ]
  },
  {
   "cell_type": "code",
   "execution_count": 16,
   "metadata": {},
   "outputs": [
    {
     "name": "stdout",
     "output_type": "stream",
     "text": [
      "6\n"
     ]
    }
   ],
   "source": [
    "print(2*3)"
   ]
  },
  {
   "cell_type": "code",
   "execution_count": 17,
   "metadata": {},
   "outputs": [
    {
     "name": "stdout",
     "output_type": "stream",
     "text": [
      "1.5\n"
     ]
    }
   ],
   "source": [
    "print(3/2)"
   ]
  },
  {
   "cell_type": "markdown",
   "metadata": {},
   "source": [
    "##### exponents\n"
   ]
  },
  {
   "cell_type": "code",
   "execution_count": 18,
   "metadata": {},
   "outputs": [
    {
     "name": "stdout",
     "output_type": "stream",
     "text": [
      "9\n",
      "27\n",
      "1000000\n"
     ]
    }
   ],
   "source": [
    "print(3**2) # 3 to the power of 2\n",
    "print(3**3) # 3 to the power of 3\n",
    "print(10**6) # 3 to the power of 3"
   ]
  },
  {
   "cell_type": "markdown",
   "metadata": {},
   "source": [
    "##### Utilize the concepts of BODMAS (Bracket Of Divide, Multiplication,Division, Addition, Subtraction)\n"
   ]
  },
  {
   "cell_type": "code",
   "execution_count": null,
   "metadata": {},
   "outputs": [
    {
     "name": "stdout",
     "output_type": "stream",
     "text": [
      "14\n",
      "20\n"
     ]
    }
   ],
   "source": [
    "print(2 + 3*4)\n",
    "print((2 + 3)*4)"
   ]
  },
  {
   "cell_type": "markdown",
   "metadata": {},
   "source": [
    "#### Floats\n",
    "\n",
    "     decimal values\n"
   ]
  },
  {
   "cell_type": "code",
   "execution_count": 20,
   "metadata": {},
   "outputs": [
    {
     "name": "stdout",
     "output_type": "stream",
     "text": [
      "0.2\n",
      "0.05000000000000002\n",
      "0.2\n",
      "8.0\n"
     ]
    }
   ],
   "source": [
    "print(0.1+0.1)\n",
    "print(0.2-0.15)\n",
    "print(2*0.1)\n",
    "print(2/0.25)"
   ]
  },
  {
   "cell_type": "markdown",
   "metadata": {},
   "source": [
    "##### underscores in numbers\n",
    "\n",
    "    universe_age = 14_000_000\n"
   ]
  },
  {
   "cell_type": "code",
   "execution_count": 21,
   "metadata": {},
   "outputs": [
    {
     "name": "stdout",
     "output_type": "stream",
     "text": [
      "14000000\n"
     ]
    }
   ],
   "source": [
    "universe_age = 14_000_000\n",
    "print(universe_age)"
   ]
  },
  {
   "cell_type": "markdown",
   "metadata": {},
   "source": [
    "##### Multiple Assignment\n"
   ]
  },
  {
   "cell_type": "code",
   "execution_count": 23,
   "metadata": {},
   "outputs": [
    {
     "name": "stdout",
     "output_type": "stream",
     "text": [
      "x:12,y:890,z:23\n"
     ]
    }
   ],
   "source": [
    "x,y,z = 12,890,23\n",
    "print(\"x:{},y:{},z:{}\".format(x,y,z))"
   ]
  },
  {
   "cell_type": "markdown",
   "metadata": {},
   "source": [
    "#### Constants\n"
   ]
  },
  {
   "cell_type": "code",
   "execution_count": 25,
   "metadata": {},
   "outputs": [
    {
     "name": "stdout",
     "output_type": "stream",
     "text": [
      "34\n"
     ]
    }
   ],
   "source": [
    "MAX_CONNECTIONS = 5000\n",
    "MAX_CONNECTIONS = 34\n",
    "print(MAX_CONNECTIONS)"
   ]
  },
  {
   "cell_type": "markdown",
   "metadata": {},
   "source": [
    "### Lists\n"
   ]
  }
 ],
 "metadata": {
  "kernelspec": {
   "display_name": "env",
   "language": "python",
   "name": "python3"
  },
  "language_info": {
   "codemirror_mode": {
    "name": "ipython",
    "version": 3
   },
   "file_extension": ".py",
   "mimetype": "text/x-python",
   "name": "python",
   "nbconvert_exporter": "python",
   "pygments_lexer": "ipython3",
   "version": "3.12.4"
  }
 },
 "nbformat": 4,
 "nbformat_minor": 2
}
