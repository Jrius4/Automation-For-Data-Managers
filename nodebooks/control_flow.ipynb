{
 "cells": [
  {
   "cell_type": "markdown",
   "metadata": {},
   "source": [
    "## Control Flow\n"
   ]
  },
  {
   "cell_type": "markdown",
   "metadata": {},
   "source": [
    "**conditional statements**\n"
   ]
  },
  {
   "cell_type": "markdown",
   "metadata": {},
   "source": [
    "- `==` Equal to\n",
    "- `!=` Not equal to\n",
    "- `<` less than\n",
    "- `>` Greater than\n",
    "- `<=` less than or equal to\n",
    "- `>=` greater than or equal to\n"
   ]
  },
  {
   "cell_type": "code",
   "execution_count": 3,
   "metadata": {},
   "outputs": [
    {
     "name": "stdout",
     "output_type": "stream",
     "text": [
      "42 == 42\n",
      "True\n",
      "\n",
      "\n",
      "40 == 42\n",
      "False\n",
      "\n",
      "\n",
      "40 < 42\n",
      "True\n",
      "\n",
      "\n",
      "'hello' == 'hello'\n",
      "True\n",
      "\n",
      "\n"
     ]
    }
   ],
   "source": [
    "# TODO: continue with control flow\n",
    "print(\"42 == 42\")\n",
    "print(42 == 42)\n",
    "print(\"\\n\")\n",
    "\n",
    "print(\"40 == 42\")\n",
    "print(40 == 42)\n",
    "print(\"\\n\")\n",
    "\n",
    "print(\"40 < 42\")\n",
    "print(40 < 42)\n",
    "print(\"\\n\")\n",
    "\n",
    "print(\"'hello' == 'hello'\")\n",
    "print('hello' == 'hello')\n",
    "print(\"\\n\")"
   ]
  },
  {
   "cell_type": "markdown",
   "metadata": {},
   "source": [
    "- True and True -> True\n",
    "- True and False -> False\n",
    "- False and True -> False\n",
    "- False and False -> False\n"
   ]
  },
  {
   "cell_type": "code",
   "execution_count": 5,
   "metadata": {},
   "outputs": [
    {
     "name": "stdout",
     "output_type": "stream",
     "text": [
      "Who are you?\n"
     ]
    }
   ],
   "source": [
    "name = 'Henry'\n",
    "if name == 'Debora':\n",
    "    print(\"Hi Debora!\")\n",
    "elif name == 'George':\n",
    "    print('Hi George')\n",
    "else:\n",
    "    print(\"Who are you?\")"
   ]
  },
  {
   "cell_type": "code",
   "execution_count": 6,
   "metadata": {},
   "outputs": [
    {
     "name": "stdout",
     "output_type": "stream",
     "text": [
      "kid\n"
     ]
    }
   ],
   "source": [
    "age = 15\n",
    "if age<18:\n",
    "    print('kid')\n",
    "else:\n",
    "    print('adult')"
   ]
  },
  {
   "cell_type": "markdown",
   "metadata": {},
   "source": [
    "### comprehension\n"
   ]
  },
  {
   "cell_type": "code",
   "execution_count": null,
   "metadata": {},
   "outputs": [
    {
     "name": "stdout",
     "output_type": "stream",
     "text": [
      "teen\n"
     ]
    }
   ],
   "source": [
    "# this ternary operator\n",
    "print('kid' if age < 13 else 'teen' if age < 18 else 'adult')\n"
   ]
  },
  {
   "cell_type": "code",
   "execution_count": null,
   "metadata": {},
   "outputs": [
    {
     "name": "stdout",
     "output_type": "stream",
     "text": [
      "teen\n"
     ]
    }
   ],
   "source": [
    "# is equivalent to the upper statement\n",
    "if age < 18:\n",
    "    if age < 13:\n",
    "        print('kid')\n",
    "    else:\n",
    "        print('teen')\n",
    "else:\n",
    "    print('adult')"
   ]
  },
  {
   "cell_type": "code",
   "execution_count": 11,
   "metadata": {},
   "outputs": [
    {
     "name": "stdout",
     "output_type": "stream",
     "text": [
      "Created\n"
     ]
    }
   ],
   "source": [
    "# switch case statement\n",
    "\n",
    "response_code = 201\n",
    "match response_code:\n",
    "    case 200:\n",
    "        print(\"OK\")\n",
    "    case 201:\n",
    "        print(\"Created\")\n",
    "    case 300:\n",
    "        print(\"Multiple Choices\")\n",
    "    case 307:\n",
    "        print(\"Temporary Redirect\")\n",
    "    case 404:\n",
    "        print(\"404 Not Found\")\n",
    "    case 500:\n",
    "        print(\"Internal Server Error\")\n",
    "    case 502:\n",
    "        print(\"502 Bad Gateway\")"
   ]
  },
  {
   "cell_type": "code",
   "execution_count": 14,
   "metadata": {},
   "outputs": [
    {
     "name": "stdout",
     "output_type": "stream",
     "text": [
      "Invalid Code\n"
     ]
    }
   ],
   "source": [
    "response_code = 503\n",
    "match response_code:\n",
    "    case 200 | 201:\n",
    "        print(\"OK\")\n",
    "    case 300 | 307:\n",
    "        print(\"Redirect\")\n",
    "    case 400 | 401:\n",
    "        print(\"Bad Request\")\n",
    "    case 500 | 502:\n",
    "        print(\"Internal Server Error\")\n",
    "    case _:\n",
    "        print(\"Invalid Code\")"
   ]
  },
  {
   "cell_type": "markdown",
   "metadata": {},
   "source": [
    "### Matching by the length of an Iterable\n"
   ]
  },
  {
   "cell_type": "code",
   "execution_count": 13,
   "metadata": {},
   "outputs": [
    {
     "name": "stdout",
     "output_type": "stream",
     "text": [
      "All responses: 200, 300, [404, 500]\n"
     ]
    }
   ],
   "source": [
    "today_responses = [200, 300, 404, 500]\n",
    "match today_responses:\n",
    "    case [a]:\n",
    "            print(f\"One response today: {a}\")\n",
    "    case [a, b]:\n",
    "            print(f\"Two responses today: {a} and {b}\")\n",
    "    case [a, b, *rest]:\n",
    "            print(f\"All responses: {a}, {b}, {rest}\")"
   ]
  },
  {
   "cell_type": "markdown",
   "metadata": {},
   "source": [
    "### While loop statements\n"
   ]
  },
  {
   "cell_type": "code",
   "execution_count": 16,
   "metadata": {},
   "outputs": [
    {
     "name": "stdout",
     "output_type": "stream",
     "text": [
      "Hello, world\n",
      "Hello, world\n",
      "Hello, world\n"
     ]
    }
   ],
   "source": [
    "spam = 0\n",
    "while spam < 5:\n",
    "    print('Hello, world')\n",
    "    spam+=1 #spam = spam + 1\n",
    "    if spam == 3:\n",
    "        break"
   ]
  },
  {
   "cell_type": "code",
   "execution_count": 17,
   "metadata": {},
   "outputs": [
    {
     "name": "stdout",
     "output_type": "stream",
     "text": [
      "only executed when no item is equal to 3\n",
      "only executed when no item is equal to 3\n"
     ]
    }
   ],
   "source": [
    "# for else statement\n",
    "for i in [1,2,3,4,5]:\n",
    "    if i == 3:\n",
    "        break\n",
    "    else:\n",
    "        print(\"only executed when no item is equal to 3\")"
   ]
  }
 ],
 "metadata": {
  "kernelspec": {
   "display_name": "env",
   "language": "python",
   "name": "python3"
  },
  "language_info": {
   "codemirror_mode": {
    "name": "ipython",
    "version": 3
   },
   "file_extension": ".py",
   "mimetype": "text/x-python",
   "name": "python",
   "nbconvert_exporter": "python",
   "pygments_lexer": "ipython3",
   "version": "3.12.4"
  }
 },
 "nbformat": 4,
 "nbformat_minor": 2
}
