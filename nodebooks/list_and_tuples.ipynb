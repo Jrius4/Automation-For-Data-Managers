{
 "cells": [
  {
   "cell_type": "markdown",
   "metadata": {},
   "source": [
    "# Python List and Tuples\n",
    "\n",
    "- List: `['Mango', 'Apple', 'Orange']` and\n",
    "- Tuple: `('Mango', 'Apple')`\n",
    "- Tuple use round brackets `[]` while Lists use square Brackets`[]`\n",
    "- Tuple is `immutable` (can not be modified) while Lists can be `modified`\n"
   ]
  },
  {
   "cell_type": "code",
   "execution_count": 2,
   "metadata": {},
   "outputs": [
    {
     "name": "stdout",
     "output_type": "stream",
     "text": [
      "bicycle list:\n",
      "['trek', 'cannondale', 'redline', 'hero', 'specialized']\n",
      "Print First Element\n",
      "trek\n",
      "specialized\n"
     ]
    }
   ],
   "source": [
    "# Declare/Define a variable as a List\n",
    "bicycles = ['trek','cannondale','redline','hero','specialized']\n",
    "\n",
    "#print\n",
    "print('bicycle list:')\n",
    "print(bicycles)\n",
    "\n",
    "# Accessing elements in a list\n",
    "print(\"Print First Element\")\n",
    "print(bicycles[0]) # first element in a list is on position/index `0`\n",
    "\n",
    "# last element\n",
    "print(bicycles[-1]) # position/index -1"
   ]
  },
  {
   "cell_type": "markdown",
   "metadata": {},
   "source": [
    "### Using individual values from a list\n"
   ]
  },
  {
   "cell_type": "code",
   "execution_count": null,
   "metadata": {},
   "outputs": [
    {
     "name": "stdout",
     "output_type": "stream",
     "text": [
      "My first bicycle was a Trek\n"
     ]
    }
   ],
   "source": [
    "message = f\"My first bicycle was a {bicycles[0].title()}\"\n",
    "print(message) # display"
   ]
  },
  {
   "cell_type": "markdown",
   "metadata": {},
   "source": [
    "### Getting sublists with Slices\n"
   ]
  },
  {
   "cell_type": "code",
   "execution_count": 15,
   "metadata": {},
   "outputs": [
    {
     "name": "stdout",
     "output_type": "stream",
     "text": [
      "['trek', 'cannondale', 'redline', 'hero', 'specialized', 'boots', 'boots']\n",
      "7\n",
      "['trek', 'cannondale', 'redline']\n",
      "['cannondale', 'redline', 'hero', 'specialized', 'boots', 'boots']\n",
      "['trek', 'cannondale', 'redline', 'hero', 'specialized', 'boots', 'boots', 'boots']\n",
      "['trek', 'cannondale', 'redline', 'hero', 'specialized', 'boots', 'boots', 'boots']\n"
     ]
    }
   ],
   "source": [
    "# establist the length of the string\n",
    "print(bicycles)\n",
    "print(len(bicycles))\n",
    "# first four items\n",
    "print(bicycles[0:3])\n",
    "\n",
    "# start from second item\n",
    "print(bicycles[1:])\n",
    "\n",
    "#add new item\n",
    "bicycles.append(\"boots\")\n",
    "print(bicycles)\n",
    "\n",
    "bicycles_new = bicycles[:] # creating a copy\n",
    "print(bicycles_new)"
   ]
  },
  {
   "cell_type": "markdown",
   "metadata": {},
   "source": [
    "### Changing values with indexes\n"
   ]
  },
  {
   "cell_type": "code",
   "execution_count": null,
   "metadata": {},
   "outputs": [
    {
     "name": "stdout",
     "output_type": "stream",
     "text": [
      "['hero', 'cannondale', 'redline', 'hero', 'specialized', 'boots', 'boots', 'airplane']\n",
      "['ship', 'cannondale', 'redline', 'hero', 'specialized', 'boots', 'boots', 'airplane']\n",
      "['hero', 'cannondale', 'redline', 'hero', 'specialized', 'boots', 'boots', 'airplane']\n",
      "['hero', 'cannondale', 'redline', 'hero', 'specialized', 'boots', 'boots', 'airplane']\n",
      "['hero', 'cannondale', 'redline', 'hero', 'specialized', 'boots', 'boots', 'airplane', 'chair', 'kites']\n",
      "['x', 'y', 'z', 'x', 'y', 'z', 'x', 'y', 'z']\n",
      "['x', 'y', 'z', 1, 2, 3, 4]\n"
     ]
    }
   ],
   "source": [
    "bicycles = bicycles_new\n",
    "print(bicycles)\n",
    "bicycles[0] = 'ship'\n",
    "print(bicycles)\n",
    "\n",
    "bicycles[0] = bicycles[3]\n",
    "print(bicycles)\n",
    "\n",
    "bicycles[-1] = 'airplane'\n",
    "print(bicycles)\n",
    "\n",
    "\n",
    "# concatenation\n",
    "bicycles = bicycles + ['chair','kites'] \n",
    "print(bicycles)\n",
    "\n",
    "\n",
    "# replication\n",
    "xy = ['x','y','z'] * 3\n",
    "print(xy)\n",
    "\n",
    "xy = ['x','y','z'] + [1,2,3,4]\n",
    "print(xy)\n",
    "\n",
    "\n"
   ]
  },
  {
   "cell_type": "code",
   "execution_count": null,
   "metadata": {},
   "outputs": [],
   "source": [
    "# TODO: Dictionaries https://www.pythoncheatsheet.org/cheatsheet/lists-and-tuples -> FOR LOOP"
   ]
  },
  {
   "cell_type": "markdown",
   "metadata": {},
   "source": [
    "### Using for loops with List\n"
   ]
  },
  {
   "cell_type": "code",
   "execution_count": 26,
   "metadata": {},
   "outputs": [
    {
     "name": "stdout",
     "output_type": "stream",
     "text": [
      "hero\n",
      "cannondale\n",
      "redline\n",
      "hero\n",
      "specialized\n",
      "boots\n",
      "boots\n",
      "airplane\n",
      "chair\n",
      "kites\n"
     ]
    }
   ],
   "source": [
    "for item in bicycles:\n",
    "    print(item)"
   ]
  },
  {
   "cell_type": "markdown",
   "metadata": {},
   "source": [
    "### Getting the index (position of item) in a loop with enumerator\n"
   ]
  },
  {
   "cell_type": "code",
   "execution_count": 28,
   "metadata": {},
   "outputs": [
    {
     "name": "stdout",
     "output_type": "stream",
     "text": [
      "index:0-item:hero\n",
      "index:1-item:cannondale\n",
      "index:2-item:redline\n",
      "index:3-item:hero\n",
      "index:4-item:specialized\n",
      "index:5-item:boots\n",
      "index:6-item:boots\n",
      "index:7-item:airplane\n",
      "index:8-item:chair\n",
      "index:9-item:kites\n"
     ]
    }
   ],
   "source": [
    "for index,item in enumerate(bicycles):\n",
    "    print(\"index:{}-item:{}\".format(index,item))"
   ]
  },
  {
   "cell_type": "markdown",
   "metadata": {},
   "source": [
    "### Loop in multiple Lists with zip()\n"
   ]
  },
  {
   "cell_type": "code",
   "execution_count": null,
   "metadata": {},
   "outputs": [
    {
     "name": "stdout",
     "output_type": "stream",
     "text": [
      "the table costs UGX.250000\n",
      "the chair costs UGX.500000\n",
      "the rack costs UGX.340000\n",
      "the shelf costs UGX.600000\n"
     ]
    }
   ],
   "source": [
    "furniture = [\"table\",\"chair\",'rack','shelf']\n",
    "price = [250_000,500_000,340000,600000]\n",
    "\n",
    "for item,amount in zip(furniture,price):\n",
    "    print(f'The {item} costs UGX.{amount}')"
   ]
  },
  {
   "cell_type": "markdown",
   "metadata": {},
   "source": [
    "### Multiple Assignment trick using Lists\n"
   ]
  },
  {
   "cell_type": "code",
   "execution_count": 32,
   "metadata": {},
   "outputs": [
    {
     "name": "stdout",
     "output_type": "stream",
     "text": [
      "table;chair;rack;['table', 'chair', 'rack', 'shelf']\n"
     ]
    }
   ],
   "source": [
    "furniture = [\"table\",\"chair\",'rack','shelf']\n",
    "table, chair,rack,shelf = furniture\n",
    "\n",
    "print(f'{table};{chair};{rack};{furniture}')"
   ]
  },
  {
   "cell_type": "code",
   "execution_count": 33,
   "metadata": {},
   "outputs": [
    {
     "name": "stdout",
     "output_type": "stream",
     "text": [
      "table\n",
      "chair\n"
     ]
    }
   ],
   "source": [
    "a,b = \"table\",'chair'\n",
    "print(a)\n",
    "print(b)"
   ]
  },
  {
   "cell_type": "markdown",
   "metadata": {},
   "source": [
    "### The index Method\n"
   ]
  },
  {
   "cell_type": "code",
   "execution_count": 34,
   "metadata": {},
   "outputs": [
    {
     "data": {
      "text/plain": [
       "3"
      ]
     },
     "execution_count": 34,
     "metadata": {},
     "output_type": "execute_result"
    }
   ],
   "source": [
    "furniture.index('shelf')"
   ]
  },
  {
   "cell_type": "code",
   "execution_count": 37,
   "metadata": {},
   "outputs": [
    {
     "name": "stdout",
     "output_type": "stream",
     "text": [
      "# add values in a List with append\n",
      "['chair', 'rack', 'shelf', 'table', 'bed']\n",
      "\n",
      "\n",
      "# add values in a List with insert\n",
      "['chair', 'rack', 'bed at 2', 'shelf', 'table', 'bed']\n",
      "\n",
      "\n",
      "# removing values in a List with del\n",
      "['chair', 'rack', 'shelf', 'table', 'bed']\n",
      "\n",
      "\n",
      "# removing values in a List with remove\n",
      "['chair', 'shelf', 'table', 'bed']\n",
      "\n",
      "\n",
      "# removing values in a List with pop\n",
      "['chair', 'shelf', 'table']\n",
      "\n",
      "\n",
      "# Sorting values in a List\n",
      "[1, 2, 3, 4, 5, 12, 22, 32, 42, 43, 45]\n",
      "['chair', 'rack', 'shelf', 'table']\n"
     ]
    }
   ],
   "source": [
    "# adding value\n",
    "print(\"# add values in a List with append\")\n",
    "furniture_new = furniture[:]\n",
    "furniture_new.append('bed')\n",
    "print(furniture_new)\n",
    "print(\"\\n\")\n",
    "\n",
    "# inserting a value\n",
    "print(\"# add values in a List with insert\")\n",
    "furniture_new.insert(2,'bed at 2')\n",
    "print(furniture_new)\n",
    "print(\"\\n\")\n",
    "\n",
    "# removing with dev() method\n",
    "print(\"# removing values in a List with del\")\n",
    "del furniture_new[2]\n",
    "print(furniture_new)\n",
    "print(\"\\n\")\n",
    "# removing with remove() method\n",
    "print(\"# removing values in a List with remove\")\n",
    "furniture_new.remove('rack')\n",
    "print(furniture_new)\n",
    "print(\"\\n\")\n",
    "# removing with pop() \n",
    "print(\"# removing values in a List with pop\")\n",
    "furniture_new.pop()\n",
    "print(furniture_new)\n",
    "print(\"\\n\")\n",
    "\n",
    "# sorting values\n",
    "print(\"# Sorting values in a List\")\n",
    "numbers = [12,32,42,45,22,43,1,2,3,4,5]\n",
    "numbers.sort()\n",
    "print(numbers)\n",
    "furniture.sort()\n",
    "print(furniture)"
   ]
  },
  {
   "cell_type": "markdown",
   "metadata": {},
   "source": [
    "## Create numerical list\n"
   ]
  },
  {
   "cell_type": "code",
   "execution_count": 39,
   "metadata": {},
   "outputs": [
    {
     "name": "stdout",
     "output_type": "stream",
     "text": [
      "1\n",
      "2\n",
      "3\n",
      "4\n",
      "[1, 2, 3, 4, 5, 6, 7, 8, 9, 10, 11, 12, 13, 14, 15, 16, 17, 18, 19, 20, 21, 22, 23, 24, 25, 26, 27, 28, 29]\n"
     ]
    }
   ],
   "source": [
    "for value in range(1,5):\n",
    "    print(value)\n",
    "    \n",
    "# make a list of numbers\n",
    "numbers_two = list(range(1,30))\n",
    "print(numbers_two)"
   ]
  },
  {
   "cell_type": "code",
   "execution_count": null,
   "metadata": {},
   "outputs": [
    {
     "name": "stdout",
     "output_type": "stream",
     "text": [
      "[2, 4, 6, 8, 10]\n"
     ]
    }
   ],
   "source": [
    "even_numbers = list(range(2,11,2))\n",
    "print(even_numbers)"
   ]
  },
  {
   "cell_type": "code",
   "execution_count": 45,
   "metadata": {},
   "outputs": [
    {
     "name": "stdout",
     "output_type": "stream",
     "text": [
      "[1, 4, 9, 16, 25, 36, 49, 64, 81, 100]\n"
     ]
    }
   ],
   "source": [
    "squares = []\n",
    "for value in range(1,11):\n",
    "    square = value ** 2\n",
    "    squares.append(square)\n",
    "\n",
    "print(squares)"
   ]
  },
  {
   "cell_type": "markdown",
   "metadata": {},
   "source": [
    "### Simple statistics with List of numbers\n"
   ]
  },
  {
   "cell_type": "code",
   "execution_count": 42,
   "metadata": {},
   "outputs": [
    {
     "name": "stdout",
     "output_type": "stream",
     "text": [
      "1\n",
      "645\n",
      "1285\n"
     ]
    }
   ],
   "source": [
    "digits = [1,2,4,53,5,645,432,3,42,98]\n",
    "print(min(digits))\n",
    "print(max(digits))\n",
    "print(sum(digits))"
   ]
  },
  {
   "cell_type": "markdown",
   "metadata": {},
   "source": [
    "### List Comprehensions\n",
    "\n",
    "##### A list comprehension allows you to generate this same list in just one line of code\n"
   ]
  },
  {
   "cell_type": "code",
   "execution_count": 46,
   "metadata": {},
   "outputs": [
    {
     "name": "stdout",
     "output_type": "stream",
     "text": [
      "[1, 4, 9, 16, 25, 36, 49, 64, 81, 100]\n"
     ]
    }
   ],
   "source": [
    "squares = [value**2 for value in range(1,11)]\n",
    "print(squares)"
   ]
  }
 ],
 "metadata": {
  "kernelspec": {
   "display_name": "env",
   "language": "python",
   "name": "python3"
  },
  "language_info": {
   "codemirror_mode": {
    "name": "ipython",
    "version": 3
   },
   "file_extension": ".py",
   "mimetype": "text/x-python",
   "name": "python",
   "nbconvert_exporter": "python",
   "pygments_lexer": "ipython3",
   "version": "3.12.4"
  }
 },
 "nbformat": 4,
 "nbformat_minor": 2
}
