{
 "cells": [
  {
   "cell_type": "markdown",
   "metadata": {},
   "source": [
    "# Python List and Tuples\n",
    "\n",
    "- List: `['Mango', 'Apple', 'Orange']` and\n",
    "- Tuple: `('Mango', 'Apple')`\n",
    "- Tuple use round brackets `[]` while Lists use square Brackets`[]`\n",
    "- Tuple is `immutable` (can not be modified) while Lists can be `modified`\n"
   ]
  },
  {
   "cell_type": "code",
   "execution_count": 2,
   "metadata": {},
   "outputs": [
    {
     "name": "stdout",
     "output_type": "stream",
     "text": [
      "bicycle list:\n",
      "['trek', 'cannondale', 'redline', 'hero', 'specialized']\n",
      "Print First Element\n",
      "trek\n",
      "specialized\n"
     ]
    }
   ],
   "source": [
    "# Declare/Define a variable as a List\n",
    "bicycles = ['trek','cannondale','redline','hero','specialized']\n",
    "\n",
    "#print\n",
    "print('bicycle list:')\n",
    "print(bicycles)\n",
    "\n",
    "# Accessing elements in a list\n",
    "print(\"Print First Element\")\n",
    "print(bicycles[0]) # first element in a list is on position/index `0`\n",
    "\n",
    "# last element\n",
    "print(bicycles[-1]) # position/index -1"
   ]
  },
  {
   "cell_type": "markdown",
   "metadata": {},
   "source": [
    "### Using individual values from a list\n"
   ]
  },
  {
   "cell_type": "code",
   "execution_count": null,
   "metadata": {},
   "outputs": [
    {
     "name": "stdout",
     "output_type": "stream",
     "text": [
      "My first bicycle was a Trek\n"
     ]
    }
   ],
   "source": [
    "message = f\"My first bicycle was a {bicycles[0].title()}\"\n",
    "print(message) # display"
   ]
  },
  {
   "cell_type": "markdown",
   "metadata": {},
   "source": [
    "### Getting sublists with Slices\n"
   ]
  },
  {
   "cell_type": "code",
   "execution_count": 15,
   "metadata": {},
   "outputs": [
    {
     "name": "stdout",
     "output_type": "stream",
     "text": [
      "['trek', 'cannondale', 'redline', 'hero', 'specialized', 'boots', 'boots']\n",
      "7\n",
      "['trek', 'cannondale', 'redline']\n",
      "['cannondale', 'redline', 'hero', 'specialized', 'boots', 'boots']\n",
      "['trek', 'cannondale', 'redline', 'hero', 'specialized', 'boots', 'boots', 'boots']\n",
      "['trek', 'cannondale', 'redline', 'hero', 'specialized', 'boots', 'boots', 'boots']\n"
     ]
    }
   ],
   "source": [
    "# establist the length of the string\n",
    "print(bicycles)\n",
    "print(len(bicycles))\n",
    "# first four items\n",
    "print(bicycles[0:3])\n",
    "\n",
    "# start from second item\n",
    "print(bicycles[1:])\n",
    "\n",
    "#add new item\n",
    "bicycles.append(\"boots\")\n",
    "print(bicycles)\n",
    "\n",
    "bicycles_new = bicycles[:] # creating a copy\n",
    "print(bicycles_new)"
   ]
  },
  {
   "cell_type": "markdown",
   "metadata": {},
   "source": [
    "### Changing values with indexes\n"
   ]
  },
  {
   "cell_type": "code",
   "execution_count": null,
   "metadata": {},
   "outputs": [
    {
     "name": "stdout",
     "output_type": "stream",
     "text": [
      "['hero', 'cannondale', 'redline', 'hero', 'specialized', 'boots', 'boots', 'airplane']\n",
      "['ship', 'cannondale', 'redline', 'hero', 'specialized', 'boots', 'boots', 'airplane']\n",
      "['hero', 'cannondale', 'redline', 'hero', 'specialized', 'boots', 'boots', 'airplane']\n",
      "['hero', 'cannondale', 'redline', 'hero', 'specialized', 'boots', 'boots', 'airplane']\n",
      "['hero', 'cannondale', 'redline', 'hero', 'specialized', 'boots', 'boots', 'airplane', 'chair', 'kites']\n",
      "['x', 'y', 'z', 'x', 'y', 'z', 'x', 'y', 'z']\n",
      "['x', 'y', 'z', 1, 2, 3, 4]\n"
     ]
    }
   ],
   "source": [
    "bicycles = bicycles_new\n",
    "print(bicycles)\n",
    "bicycles[0] = 'ship'\n",
    "print(bicycles)\n",
    "\n",
    "bicycles[0] = bicycles[3]\n",
    "print(bicycles)\n",
    "\n",
    "bicycles[-1] = 'airplane'\n",
    "print(bicycles)\n",
    "\n",
    "\n",
    "# concatenation\n",
    "bicycles = bicycles + ['chair','kites'] \n",
    "print(bicycles)\n",
    "\n",
    "\n",
    "# replication\n",
    "xy = ['x','y','z'] * 3\n",
    "print(xy)\n",
    "\n",
    "xy = ['x','y','z'] + [1,2,3,4]\n",
    "print(xy)\n",
    "\n",
    "\n"
   ]
  },
  {
   "cell_type": "code",
   "execution_count": null,
   "metadata": {},
   "outputs": [],
   "source": [
    "# TODO: LIST https://www.pythoncheatsheet.org/cheatsheet/lists-and-tuples -> FOR LOOP"
   ]
  },
  {
   "cell_type": "markdown",
   "metadata": {},
   "source": []
  }
 ],
 "metadata": {
  "kernelspec": {
   "display_name": "env",
   "language": "python",
   "name": "python3"
  },
  "language_info": {
   "codemirror_mode": {
    "name": "ipython",
    "version": 3
   },
   "file_extension": ".py",
   "mimetype": "text/x-python",
   "name": "python",
   "nbconvert_exporter": "python",
   "pygments_lexer": "ipython3",
   "version": "3.12.4"
  }
 },
 "nbformat": 4,
 "nbformat_minor": 2
}
